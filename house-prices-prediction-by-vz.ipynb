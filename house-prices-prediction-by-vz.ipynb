{
 "cells": [
  {
   "cell_type": "markdown",
   "id": "372f9168",
   "metadata": {
    "papermill": {
     "duration": 0.005596,
     "end_time": "2024-04-08T09:58:03.700221",
     "exception": false,
     "start_time": "2024-04-08T09:58:03.694625",
     "status": "completed"
    },
    "tags": []
   },
   "source": [
    "## Hello World"
   ]
  },
  {
   "cell_type": "code",
   "execution_count": 1,
   "id": "dc80c749",
   "metadata": {
    "execution": {
     "iopub.execute_input": "2024-04-08T09:58:03.711274Z",
     "iopub.status.busy": "2024-04-08T09:58:03.710864Z",
     "iopub.status.idle": "2024-04-08T09:58:03.725420Z",
     "shell.execute_reply": "2024-04-08T09:58:03.723961Z"
    },
    "papermill": {
     "duration": 0.022804,
     "end_time": "2024-04-08T09:58:03.727787",
     "exception": false,
     "start_time": "2024-04-08T09:58:03.704983",
     "status": "completed"
    },
    "tags": []
   },
   "outputs": [
    {
     "name": "stdout",
     "output_type": "stream",
     "text": [
      "Hello World!\n"
     ]
    }
   ],
   "source": [
    "print(\"Hello World!\")"
   ]
  },
  {
   "cell_type": "markdown",
   "id": "e72fda0c",
   "metadata": {
    "papermill": {
     "duration": 0.004297,
     "end_time": "2024-04-08T09:58:03.736710",
     "exception": false,
     "start_time": "2024-04-08T09:58:03.732413",
     "status": "completed"
    },
    "tags": []
   },
   "source": [
    "## Import data"
   ]
  },
  {
   "cell_type": "code",
   "execution_count": 2,
   "id": "4bf028de",
   "metadata": {
    "execution": {
     "iopub.execute_input": "2024-04-08T09:58:03.748328Z",
     "iopub.status.busy": "2024-04-08T09:58:03.747599Z",
     "iopub.status.idle": "2024-04-08T09:58:04.701964Z",
     "shell.execute_reply": "2024-04-08T09:58:04.700795Z"
    },
    "papermill": {
     "duration": 0.963262,
     "end_time": "2024-04-08T09:58:04.704451",
     "exception": false,
     "start_time": "2024-04-08T09:58:03.741189",
     "status": "completed"
    },
    "tags": []
   },
   "outputs": [
    {
     "data": {
      "text/plain": [
       "Index(['Id', 'MSSubClass', 'MSZoning', 'LotFrontage', 'LotArea', 'Street',\n",
       "       'Alley', 'LotShape', 'LandContour', 'Utilities', 'LotConfig',\n",
       "       'LandSlope', 'Neighborhood', 'Condition1', 'Condition2', 'BldgType',\n",
       "       'HouseStyle', 'OverallQual', 'OverallCond', 'YearBuilt', 'YearRemodAdd',\n",
       "       'RoofStyle', 'RoofMatl', 'Exterior1st', 'Exterior2nd', 'MasVnrType',\n",
       "       'MasVnrArea', 'ExterQual', 'ExterCond', 'Foundation', 'BsmtQual',\n",
       "       'BsmtCond', 'BsmtExposure', 'BsmtFinType1', 'BsmtFinSF1',\n",
       "       'BsmtFinType2', 'BsmtFinSF2', 'BsmtUnfSF', 'TotalBsmtSF', 'Heating',\n",
       "       'HeatingQC', 'CentralAir', 'Electrical', '1stFlrSF', '2ndFlrSF',\n",
       "       'LowQualFinSF', 'GrLivArea', 'BsmtFullBath', 'BsmtHalfBath', 'FullBath',\n",
       "       'HalfBath', 'BedroomAbvGr', 'KitchenAbvGr', 'KitchenQual',\n",
       "       'TotRmsAbvGrd', 'Functional', 'Fireplaces', 'FireplaceQu', 'GarageType',\n",
       "       'GarageYrBlt', 'GarageFinish', 'GarageCars', 'GarageArea', 'GarageQual',\n",
       "       'GarageCond', 'PavedDrive', 'WoodDeckSF', 'OpenPorchSF',\n",
       "       'EnclosedPorch', '3SsnPorch', 'ScreenPorch', 'PoolArea', 'PoolQC',\n",
       "       'Fence', 'MiscFeature', 'MiscVal', 'MoSold', 'YrSold', 'SaleType',\n",
       "       'SaleCondition', 'SalePrice'],\n",
       "      dtype='object')"
      ]
     },
     "execution_count": 2,
     "metadata": {},
     "output_type": "execute_result"
    }
   ],
   "source": [
    "import pandas as pd\n",
    "\n",
    "train_path = \"/kaggle/input/home-data-for-ml-course/train.csv\"\n",
    "\n",
    "train_data = pd.read_csv(train_path)\n",
    "train_data.columns"
   ]
  },
  {
   "cell_type": "code",
   "execution_count": 3,
   "id": "ab6101f2",
   "metadata": {
    "execution": {
     "iopub.execute_input": "2024-04-08T09:58:04.716248Z",
     "iopub.status.busy": "2024-04-08T09:58:04.715447Z",
     "iopub.status.idle": "2024-04-08T09:58:04.728915Z",
     "shell.execute_reply": "2024-04-08T09:58:04.727952Z"
    },
    "papermill": {
     "duration": 0.022202,
     "end_time": "2024-04-08T09:58:04.731515",
     "exception": false,
     "start_time": "2024-04-08T09:58:04.709313",
     "status": "completed"
    },
    "tags": []
   },
   "outputs": [],
   "source": [
    "features = ['LotArea', 'YearBuilt','GrLivArea','1stFlrSF', '2ndFlrSF', 'LowQualFinSF','FullBath', \n",
    "            'BedroomAbvGr','KitchenAbvGr','TotRmsAbvGrd','PoolArea','YrSold']\n",
    "X = train_data[features]\n",
    "y = train_data['SalePrice']"
   ]
  },
  {
   "cell_type": "markdown",
   "id": "402bdb07",
   "metadata": {
    "papermill": {
     "duration": 0.004495,
     "end_time": "2024-04-08T09:58:04.740913",
     "exception": false,
     "start_time": "2024-04-08T09:58:04.736418",
     "status": "completed"
    },
    "tags": []
   },
   "source": [
    "## Using RandomForest "
   ]
  },
  {
   "cell_type": "code",
   "execution_count": 4,
   "id": "15c081fa",
   "metadata": {
    "execution": {
     "iopub.execute_input": "2024-04-08T09:58:04.752580Z",
     "iopub.status.busy": "2024-04-08T09:58:04.752178Z",
     "iopub.status.idle": "2024-04-08T09:58:07.287562Z",
     "shell.execute_reply": "2024-04-08T09:58:07.286421Z"
    },
    "papermill": {
     "duration": 2.544137,
     "end_time": "2024-04-08T09:58:07.289960",
     "exception": false,
     "start_time": "2024-04-08T09:58:04.745823",
     "status": "completed"
    },
    "tags": []
   },
   "outputs": [
    {
     "data": {
      "text/html": [
       "<style>#sk-container-id-1 {color: black;background-color: white;}#sk-container-id-1 pre{padding: 0;}#sk-container-id-1 div.sk-toggleable {background-color: white;}#sk-container-id-1 label.sk-toggleable__label {cursor: pointer;display: block;width: 100%;margin-bottom: 0;padding: 0.3em;box-sizing: border-box;text-align: center;}#sk-container-id-1 label.sk-toggleable__label-arrow:before {content: \"▸\";float: left;margin-right: 0.25em;color: #696969;}#sk-container-id-1 label.sk-toggleable__label-arrow:hover:before {color: black;}#sk-container-id-1 div.sk-estimator:hover label.sk-toggleable__label-arrow:before {color: black;}#sk-container-id-1 div.sk-toggleable__content {max-height: 0;max-width: 0;overflow: hidden;text-align: left;background-color: #f0f8ff;}#sk-container-id-1 div.sk-toggleable__content pre {margin: 0.2em;color: black;border-radius: 0.25em;background-color: #f0f8ff;}#sk-container-id-1 input.sk-toggleable__control:checked~div.sk-toggleable__content {max-height: 200px;max-width: 100%;overflow: auto;}#sk-container-id-1 input.sk-toggleable__control:checked~label.sk-toggleable__label-arrow:before {content: \"▾\";}#sk-container-id-1 div.sk-estimator input.sk-toggleable__control:checked~label.sk-toggleable__label {background-color: #d4ebff;}#sk-container-id-1 div.sk-label input.sk-toggleable__control:checked~label.sk-toggleable__label {background-color: #d4ebff;}#sk-container-id-1 input.sk-hidden--visually {border: 0;clip: rect(1px 1px 1px 1px);clip: rect(1px, 1px, 1px, 1px);height: 1px;margin: -1px;overflow: hidden;padding: 0;position: absolute;width: 1px;}#sk-container-id-1 div.sk-estimator {font-family: monospace;background-color: #f0f8ff;border: 1px dotted black;border-radius: 0.25em;box-sizing: border-box;margin-bottom: 0.5em;}#sk-container-id-1 div.sk-estimator:hover {background-color: #d4ebff;}#sk-container-id-1 div.sk-parallel-item::after {content: \"\";width: 100%;border-bottom: 1px solid gray;flex-grow: 1;}#sk-container-id-1 div.sk-label:hover label.sk-toggleable__label {background-color: #d4ebff;}#sk-container-id-1 div.sk-serial::before {content: \"\";position: absolute;border-left: 1px solid gray;box-sizing: border-box;top: 0;bottom: 0;left: 50%;z-index: 0;}#sk-container-id-1 div.sk-serial {display: flex;flex-direction: column;align-items: center;background-color: white;padding-right: 0.2em;padding-left: 0.2em;position: relative;}#sk-container-id-1 div.sk-item {position: relative;z-index: 1;}#sk-container-id-1 div.sk-parallel {display: flex;align-items: stretch;justify-content: center;background-color: white;position: relative;}#sk-container-id-1 div.sk-item::before, #sk-container-id-1 div.sk-parallel-item::before {content: \"\";position: absolute;border-left: 1px solid gray;box-sizing: border-box;top: 0;bottom: 0;left: 50%;z-index: -1;}#sk-container-id-1 div.sk-parallel-item {display: flex;flex-direction: column;z-index: 1;position: relative;background-color: white;}#sk-container-id-1 div.sk-parallel-item:first-child::after {align-self: flex-end;width: 50%;}#sk-container-id-1 div.sk-parallel-item:last-child::after {align-self: flex-start;width: 50%;}#sk-container-id-1 div.sk-parallel-item:only-child::after {width: 0;}#sk-container-id-1 div.sk-dashed-wrapped {border: 1px dashed gray;margin: 0 0.4em 0.5em 0.4em;box-sizing: border-box;padding-bottom: 0.4em;background-color: white;}#sk-container-id-1 div.sk-label label {font-family: monospace;font-weight: bold;display: inline-block;line-height: 1.2em;}#sk-container-id-1 div.sk-label-container {text-align: center;}#sk-container-id-1 div.sk-container {/* jupyter's `normalize.less` sets `[hidden] { display: none; }` but bootstrap.min.css set `[hidden] { display: none !important; }` so we also need the `!important` here to be able to override the default hidden behavior on the sphinx rendered scikit-learn.org. See: https://github.com/scikit-learn/scikit-learn/issues/21755 */display: inline-block !important;position: relative;}#sk-container-id-1 div.sk-text-repr-fallback {display: none;}</style><div id=\"sk-container-id-1\" class=\"sk-top-container\"><div class=\"sk-text-repr-fallback\"><pre>RandomForestRegressor(random_state=1)</pre><b>In a Jupyter environment, please rerun this cell to show the HTML representation or trust the notebook. <br />On GitHub, the HTML representation is unable to render, please try loading this page with nbviewer.org.</b></div><div class=\"sk-container\" hidden><div class=\"sk-item\"><div class=\"sk-estimator sk-toggleable\"><input class=\"sk-toggleable__control sk-hidden--visually\" id=\"sk-estimator-id-1\" type=\"checkbox\" checked><label for=\"sk-estimator-id-1\" class=\"sk-toggleable__label sk-toggleable__label-arrow\">RandomForestRegressor</label><div class=\"sk-toggleable__content\"><pre>RandomForestRegressor(random_state=1)</pre></div></div></div></div></div>"
      ],
      "text/plain": [
       "RandomForestRegressor(random_state=1)"
      ]
     },
     "execution_count": 4,
     "metadata": {},
     "output_type": "execute_result"
    }
   ],
   "source": [
    "from sklearn.ensemble import RandomForestRegressor\n",
    "rf = RandomForestRegressor(random_state=1)\n",
    "rf.fit(X,y)"
   ]
  },
  {
   "cell_type": "markdown",
   "id": "0227f216",
   "metadata": {
    "papermill": {
     "duration": 0.005177,
     "end_time": "2024-04-08T09:58:07.300198",
     "exception": false,
     "start_time": "2024-04-08T09:58:07.295021",
     "status": "completed"
    },
    "tags": []
   },
   "source": [
    "## Test"
   ]
  },
  {
   "cell_type": "code",
   "execution_count": 5,
   "id": "51d43c37",
   "metadata": {
    "execution": {
     "iopub.execute_input": "2024-04-08T09:58:07.312064Z",
     "iopub.status.busy": "2024-04-08T09:58:07.311290Z",
     "iopub.status.idle": "2024-04-08T09:58:07.364383Z",
     "shell.execute_reply": "2024-04-08T09:58:07.363398Z"
    },
    "papermill": {
     "duration": 0.062042,
     "end_time": "2024-04-08T09:58:07.367176",
     "exception": false,
     "start_time": "2024-04-08T09:58:07.305134",
     "status": "completed"
    },
    "tags": []
   },
   "outputs": [],
   "source": [
    "#Get sample features data\n",
    "test_path = \"/kaggle/input/home-data-for-ml-course/test.csv\"\n",
    "test_data = pd.read_csv(test_path)\n",
    "test_X = test_data[features]\n",
    "\n",
    "#Get sample submition data\n",
    "sample_submit_path = \"/kaggle/input/home-data-for-ml-course/sample_submission.csv\"\n",
    "test_Y = pd.read_csv(sample_submit_path)['SalePrice']"
   ]
  },
  {
   "cell_type": "code",
   "execution_count": 6,
   "id": "83316f85",
   "metadata": {
    "execution": {
     "iopub.execute_input": "2024-04-08T09:58:07.378821Z",
     "iopub.status.busy": "2024-04-08T09:58:07.378446Z",
     "iopub.status.idle": "2024-04-08T09:58:07.415686Z",
     "shell.execute_reply": "2024-04-08T09:58:07.414487Z"
    },
    "papermill": {
     "duration": 0.046697,
     "end_time": "2024-04-08T09:58:07.419074",
     "exception": false,
     "start_time": "2024-04-08T09:58:07.372377",
     "status": "completed"
    },
    "tags": []
   },
   "outputs": [],
   "source": [
    "from sklearn.metrics import mean_absolute_error\n",
    "preds = rf.predict(test_X)\n",
    "mae = mean_absolute_error(preds,test_Y)"
   ]
  },
  {
   "cell_type": "markdown",
   "id": "b1eb254f",
   "metadata": {
    "papermill": {
     "duration": 0.004977,
     "end_time": "2024-04-08T09:58:07.429231",
     "exception": false,
     "start_time": "2024-04-08T09:58:07.424254",
     "status": "completed"
    },
    "tags": []
   },
   "source": [
    "## Write submission"
   ]
  },
  {
   "cell_type": "code",
   "execution_count": 7,
   "id": "25323f7a",
   "metadata": {
    "execution": {
     "iopub.execute_input": "2024-04-08T09:58:07.441973Z",
     "iopub.status.busy": "2024-04-08T09:58:07.441330Z",
     "iopub.status.idle": "2024-04-08T09:58:07.456000Z",
     "shell.execute_reply": "2024-04-08T09:58:07.454738Z"
    },
    "papermill": {
     "duration": 0.024263,
     "end_time": "2024-04-08T09:58:07.458977",
     "exception": false,
     "start_time": "2024-04-08T09:58:07.434714",
     "status": "completed"
    },
    "tags": []
   },
   "outputs": [],
   "source": [
    "output = pd.DataFrame({'Id':test_data['Id'],\n",
    "                     'SalePrice':preds})\n",
    "output.to_csv('submission.csv',index=False)"
   ]
  }
 ],
 "metadata": {
  "kaggle": {
   "accelerator": "none",
   "dataSources": [
    {
     "databundleVersionId": 111096,
     "sourceId": 10211,
     "sourceType": "competition"
    }
   ],
   "isGpuEnabled": false,
   "isInternetEnabled": false,
   "language": "python",
   "sourceType": "notebook"
  },
  "kernelspec": {
   "display_name": "Python 3",
   "language": "python",
   "name": "python3"
  },
  "language_info": {
   "codemirror_mode": {
    "name": "ipython",
    "version": 3
   },
   "file_extension": ".py",
   "mimetype": "text/x-python",
   "name": "python",
   "nbconvert_exporter": "python",
   "pygments_lexer": "ipython3",
   "version": "3.10.13"
  },
  "papermill": {
   "default_parameters": {},
   "duration": 7.438129,
   "end_time": "2024-04-08T09:58:08.084473",
   "environment_variables": {},
   "exception": null,
   "input_path": "__notebook__.ipynb",
   "output_path": "__notebook__.ipynb",
   "parameters": {},
   "start_time": "2024-04-08T09:58:00.646344",
   "version": "2.5.0"
  }
 },
 "nbformat": 4,
 "nbformat_minor": 5
}
